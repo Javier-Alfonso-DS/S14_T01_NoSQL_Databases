{
 "cells": [
  {
   "cell_type": "markdown",
   "metadata": {},
   "source": [
    "# Description\n",
    "Let's start getting familiar with NoSQL databases !!!! We start with a few basic exercises\n",
    "\n",
    "Level 1\n",
    "- Exercise 1\n",
    "Create a NoSQL database using MongoDB. Add some sample data that will allow you to check that you are able to process the information in a basic way.\n",
    "\n",
    "- Exercise 2\n",
    "Connect the NoSQL database to Python using pymongo for example.\n",
    "\n",
    "Level 2\n",
    "- Exercise 1\n",
    "Load some simple queries to a Pandas Dataframe. \n",
    "\n",
    "Level 3\n",
    "- Exercise 1\n",
    "Generate a statistical summary of the information contained in the database.\n",
    "\n",
    "Resources\n",
    "Classroom resources and https://docs.spring.io/spring-data/mongodb/docs/current/reference/html/#reference .\n"
   ]
  },
  {
   "cell_type": "markdown",
   "metadata": {},
   "source": [
    "# Level 1\n",
    "## - Exercise 1\n",
    "Create a NoSQL database using MongoDB. Add some sample data that will allow you to check that you are able to process the information in a basic way.\n"
   ]
  },
  {
   "cell_type": "markdown",
   "metadata": {},
   "source": [
    "## Solution:\n",
    "\n",
    "![](2022-04-08-10-21-14.png)\n",
    "\n",
    "This is an screenshot showing that I have installed MongoDB locally (version v5.0.6) and also created some sample data in a new database named S14_T01."
   ]
  },
  {
   "cell_type": "markdown",
   "metadata": {},
   "source": [
    "\n",
    "## - Exercise 2\n",
    "Connect the NoSQL database to Python using pymongo for example.\n"
   ]
  },
  {
   "cell_type": "markdown",
   "metadata": {},
   "source": [
    "## Solution:\n",
    "\n",
    "This is an introductory screenshot showing that we can connect from vscode to our MongoDB Database:\n",
    "![](2022-04-08-10-25-58.png)   \n",
    "And now, we install pymongodb and extract some simple data:"
   ]
  },
  {
   "cell_type": "code",
   "execution_count": 1,
   "metadata": {},
   "outputs": [
    {
     "ename": "ModuleNotFoundError",
     "evalue": "No module named 'pymongo'",
     "output_type": "error",
     "traceback": [
      "\u001b[1;31m---------------------------------------------------------------------------\u001b[0m",
      "\u001b[1;31mModuleNotFoundError\u001b[0m                       Traceback (most recent call last)",
      "\u001b[1;32mc:\\Personal\\PythonScripts\\S14_T01_NoSQL_Databases\\S14_T01_NoSQL_Databases.ipynb Cell 6'\u001b[0m in \u001b[0;36m<cell line: 1>\u001b[1;34m()\u001b[0m\n\u001b[1;32m----> <a href='vscode-notebook-cell:/c%3A/Personal/PythonScripts/S14_T01_NoSQL_Databases/S14_T01_NoSQL_Databases.ipynb#ch0000005?line=0'>1</a>\u001b[0m \u001b[39mfrom\u001b[39;00m \u001b[39mpymongo\u001b[39;00m \u001b[39mimport\u001b[39;00m MongoClient\n",
      "\u001b[1;31mModuleNotFoundError\u001b[0m: No module named 'pymongo'"
     ]
    }
   ],
   "source": [
    "from pymongo import MongoClient"
   ]
  },
  {
   "cell_type": "code",
   "execution_count": null,
   "metadata": {},
   "outputs": [],
   "source": []
  },
  {
   "cell_type": "code",
   "execution_count": null,
   "metadata": {},
   "outputs": [],
   "source": []
  },
  {
   "cell_type": "markdown",
   "metadata": {},
   "source": [
    "\n",
    "# Level 2\n",
    "## - Exercise 1\n",
    "Load some simple queries to a Pandas Dataframe. \n"
   ]
  },
  {
   "cell_type": "markdown",
   "metadata": {},
   "source": [
    "\n",
    "# Level 3\n",
    "## - Exercise 1\n",
    "Generate a statistical summary of the information contained in the database."
   ]
  }
 ],
 "metadata": {
  "interpreter": {
   "hash": "494e690407c5c7c9b2fbc0a1227ada2e3d821eefed538763ba3356ad470e06f1"
  },
  "kernelspec": {
   "display_name": "Python 3.9.12 ('ITAcademy')",
   "language": "python",
   "name": "python3"
  },
  "language_info": {
   "codemirror_mode": {
    "name": "ipython",
    "version": 3
   },
   "file_extension": ".py",
   "mimetype": "text/x-python",
   "name": "python",
   "nbconvert_exporter": "python",
   "pygments_lexer": "ipython3",
   "version": "3.9.12"
  },
  "orig_nbformat": 4
 },
 "nbformat": 4,
 "nbformat_minor": 2
}
