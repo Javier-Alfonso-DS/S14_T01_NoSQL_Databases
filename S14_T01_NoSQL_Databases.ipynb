{
 "cells": [
  {
   "cell_type": "markdown",
   "metadata": {},
   "source": [
    "# Description\n",
    "Let's start getting familiar with NoSQL databases !!!! We start with a few basic exercises\n",
    "\n",
    "Level 1\n",
    "- Exercise 1\n",
    "Create a NoSQL database using MongoDB. Add some sample data that will allow you to check that you are able to process the information in a basic way.\n",
    "\n",
    "- Exercise 2\n",
    "Connect the NoSQL database to Python using pymongo for example.\n",
    "\n",
    "Level 2\n",
    "- Exercise 1\n",
    "Load some simple queries to a Pandas Dataframe. \n",
    "\n",
    "Level 3\n",
    "- Exercise 1\n",
    "Generate a statistical summary of the information contained in the database.\n",
    "\n",
    "Resources\n",
    "Classroom resources and https://docs.spring.io/spring-data/mongodb/docs/current/reference/html/#reference .\n"
   ]
  },
  {
   "cell_type": "markdown",
   "metadata": {},
   "source": [
    "# Level 1\n",
    "## - Exercise 1\n",
    "Create a NoSQL database using MongoDB. Add some sample data that will allow you to check that you are able to process the information in a basic way.\n"
   ]
  },
  {
   "cell_type": "markdown",
   "metadata": {},
   "source": [
    "## Solution:\n",
    "\n",
    "![](2022-04-08-10-21-14.png)\n",
    "\n",
    "This is an screenshot showing that I have installed MongoDB locally (version v5.0.6) and also created some sample data in a new database named S14_T01."
   ]
  },
  {
   "cell_type": "markdown",
   "metadata": {},
   "source": [
    "\n",
    "## - Exercise 2\n",
    "Connect the NoSQL database to Python using pymongo for example.\n"
   ]
  },
  {
   "cell_type": "markdown",
   "metadata": {},
   "source": [
    "### Connection to MongoDB from VSCode\n",
    "This is an introductory screenshot showing that we can connect from vscode to our MongoDB Database:\n",
    "![](2022-04-08-10-25-58.png)   \n",
    "And now, we install pymongodb and extract some simple data:"
   ]
  },
  {
   "cell_type": "markdown",
   "metadata": {},
   "source": [
    "## Solution:\n",
    "\n",
    "### First, connect to database with pymongo and extract some info values."
   ]
  },
  {
   "cell_type": "code",
   "execution_count": 28,
   "metadata": {},
   "outputs": [],
   "source": [
    "from pymongo import MongoClient\n",
    "# pprint library is used to make the output look more pretty\n",
    "from pprint import pprint\n",
    "# connect to MongoDB, change the << MONGODB URL >> to reflect your own connection string\n",
    "client = MongoClient('mongodb://localhost:27017')\n",
    "db=client.admin\n",
    "# Issue the serverStatus command and print the results\n",
    "serverStatusResult=db.command(\"serverStatus\")\n",
    "# pprint(serverStatusResult)"
   ]
  },
  {
   "cell_type": "markdown",
   "metadata": {},
   "source": [
    "### As the output is too large to see it in Notebook cell, we save it in the file S14_T01_NoSQL_Databases_Output.json"
   ]
  },
  {
   "cell_type": "markdown",
   "metadata": {},
   "source": [
    "### Second, create an example database in MongoDb"
   ]
  },
  {
   "cell_type": "code",
   "execution_count": 29,
   "metadata": {},
   "outputs": [
    {
     "name": "stdout",
     "output_type": "stream",
     "text": [
      "finished creating 500 business reviews\n"
     ]
    }
   ],
   "source": [
    "from random import randint\n",
    "#Step 1: Connect to MongoDB - Note: Change connection string as needed\n",
    "client = MongoClient(port=27017)\n",
    "db=client.business\n",
    "#Step 2: Create sample data\n",
    "names = ['Kitchen','Animal','State', 'Tastey', 'Big','City','Fish', 'Pizza','Goat', 'Salty','Sandwich','Lazy', 'Fun']\n",
    "company_type = ['LLC','Inc','Company','Corporation']\n",
    "company_cuisine = ['Pizza', 'Bar Food', 'Fast Food', 'Italian', 'Mexican', 'American', 'Sushi Bar', 'Vegetarian']\n",
    "for x in range(1, 501):\n",
    "    business = {\n",
    "        'name' : names[randint(0, (len(names)-1))] + ' ' + names[randint(0, (len(names)-1))]  + ' ' + company_type[randint(0, (len(company_type)-1))],\n",
    "        'rating' : randint(1, 5),\n",
    "        'cuisine' : company_cuisine[randint(0, (len(company_cuisine)-1))] \n",
    "    }\n",
    "    #Step 3: Insert business object directly into MongoDB via insert_one\n",
    "    result=db.reviews.insert_one(business)\n",
    "    #Step 4: Print to the console the ObjectID of the new document\n",
    "    # print('Created {0} of 500 as {1}'.format(x,result.inserted_id))\n",
    "#Step 5: Tell us that you are done\n",
    "print('finished creating 500 business reviews')"
   ]
  },
  {
   "cell_type": "markdown",
   "metadata": {},
   "source": [
    "### Finally, show some values from this example db."
   ]
  },
  {
   "cell_type": "code",
   "execution_count": 18,
   "metadata": {},
   "outputs": [
    {
     "name": "stdout",
     "output_type": "stream",
     "text": [
      "{'_id': ObjectId('624ff457b32087a0f5f46b1b'), 'name': 'Lazy Salty Inc', 'rating': 5, 'cuisine': 'Mexican'}\n"
     ]
    }
   ],
   "source": [
    "fivestar = db.reviews.find_one({'rating': 5})\n",
    "print(fivestar)"
   ]
  },
  {
   "cell_type": "markdown",
   "metadata": {},
   "source": [
    "\n",
    "# Level 2\n",
    "## - Exercise 1\n",
    "Load some simple queries to a Pandas Dataframe. \n"
   ]
  },
  {
   "cell_type": "code",
   "execution_count": 19,
   "metadata": {},
   "outputs": [
    {
     "data": {
      "text/plain": [
       "<pymongo.cursor.Cursor at 0x2b76e07c100>"
      ]
     },
     "execution_count": 19,
     "metadata": {},
     "output_type": "execute_result"
    }
   ],
   "source": [
    "fivestarcursor = db.reviews.find({'rating': 5})\n",
    "fivestarcursor"
   ]
  },
  {
   "cell_type": "code",
   "execution_count": 20,
   "metadata": {},
   "outputs": [],
   "source": [
    "fivestarlist = []\n",
    "for row in fivestarcursor:\n",
    "  fivestarlist.append(row)"
   ]
  },
  {
   "cell_type": "markdown",
   "metadata": {},
   "source": [
    "### Solution:\n",
    "\n",
    "Below the query of all 5-star hotels to df."
   ]
  },
  {
   "cell_type": "code",
   "execution_count": 21,
   "metadata": {},
   "outputs": [
    {
     "data": {
      "text/html": [
       "<div>\n",
       "<style scoped>\n",
       "    .dataframe tbody tr th:only-of-type {\n",
       "        vertical-align: middle;\n",
       "    }\n",
       "\n",
       "    .dataframe tbody tr th {\n",
       "        vertical-align: top;\n",
       "    }\n",
       "\n",
       "    .dataframe thead th {\n",
       "        text-align: right;\n",
       "    }\n",
       "</style>\n",
       "<table border=\"1\" class=\"dataframe\">\n",
       "  <thead>\n",
       "    <tr style=\"text-align: right;\">\n",
       "      <th></th>\n",
       "      <th>_id</th>\n",
       "      <th>name</th>\n",
       "      <th>rating</th>\n",
       "      <th>cuisine</th>\n",
       "    </tr>\n",
       "  </thead>\n",
       "  <tbody>\n",
       "    <tr>\n",
       "      <th>0</th>\n",
       "      <td>624ff457b32087a0f5f46b1b</td>\n",
       "      <td>Lazy Salty Inc</td>\n",
       "      <td>5</td>\n",
       "      <td>Mexican</td>\n",
       "    </tr>\n",
       "    <tr>\n",
       "      <th>1</th>\n",
       "      <td>624ff457b32087a0f5f46b1e</td>\n",
       "      <td>Big State Corporation</td>\n",
       "      <td>5</td>\n",
       "      <td>Italian</td>\n",
       "    </tr>\n",
       "    <tr>\n",
       "      <th>2</th>\n",
       "      <td>624ff457b32087a0f5f46b22</td>\n",
       "      <td>Tastey State LLC</td>\n",
       "      <td>5</td>\n",
       "      <td>Vegetarian</td>\n",
       "    </tr>\n",
       "    <tr>\n",
       "      <th>3</th>\n",
       "      <td>624ff457b32087a0f5f46b23</td>\n",
       "      <td>Sandwich State Inc</td>\n",
       "      <td>5</td>\n",
       "      <td>Mexican</td>\n",
       "    </tr>\n",
       "    <tr>\n",
       "      <th>4</th>\n",
       "      <td>624ff457b32087a0f5f46b27</td>\n",
       "      <td>Animal Fish Company</td>\n",
       "      <td>5</td>\n",
       "      <td>Mexican</td>\n",
       "    </tr>\n",
       "    <tr>\n",
       "      <th>...</th>\n",
       "      <td>...</td>\n",
       "      <td>...</td>\n",
       "      <td>...</td>\n",
       "      <td>...</td>\n",
       "    </tr>\n",
       "    <tr>\n",
       "      <th>401</th>\n",
       "      <td>6251dd01896621c9b47b53a1</td>\n",
       "      <td>Tastey State Corporation</td>\n",
       "      <td>5</td>\n",
       "      <td>Vegetarian</td>\n",
       "    </tr>\n",
       "    <tr>\n",
       "      <th>402</th>\n",
       "      <td>6251dd01896621c9b47b53aa</td>\n",
       "      <td>Sandwich City Company</td>\n",
       "      <td>5</td>\n",
       "      <td>Bar Food</td>\n",
       "    </tr>\n",
       "    <tr>\n",
       "      <th>403</th>\n",
       "      <td>6251dd01896621c9b47b53ac</td>\n",
       "      <td>Sandwich Pizza Company</td>\n",
       "      <td>5</td>\n",
       "      <td>Bar Food</td>\n",
       "    </tr>\n",
       "    <tr>\n",
       "      <th>404</th>\n",
       "      <td>6251dd01896621c9b47b53ae</td>\n",
       "      <td>Goat Tastey Inc</td>\n",
       "      <td>5</td>\n",
       "      <td>Sushi Bar</td>\n",
       "    </tr>\n",
       "    <tr>\n",
       "      <th>405</th>\n",
       "      <td>6251dd01896621c9b47b53ba</td>\n",
       "      <td>Kitchen Fun LLC</td>\n",
       "      <td>5</td>\n",
       "      <td>Italian</td>\n",
       "    </tr>\n",
       "  </tbody>\n",
       "</table>\n",
       "<p>406 rows × 4 columns</p>\n",
       "</div>"
      ],
      "text/plain": [
       "                          _id                      name  rating     cuisine\n",
       "0    624ff457b32087a0f5f46b1b            Lazy Salty Inc       5     Mexican\n",
       "1    624ff457b32087a0f5f46b1e     Big State Corporation       5     Italian\n",
       "2    624ff457b32087a0f5f46b22          Tastey State LLC       5  Vegetarian\n",
       "3    624ff457b32087a0f5f46b23        Sandwich State Inc       5     Mexican\n",
       "4    624ff457b32087a0f5f46b27       Animal Fish Company       5     Mexican\n",
       "..                        ...                       ...     ...         ...\n",
       "401  6251dd01896621c9b47b53a1  Tastey State Corporation       5  Vegetarian\n",
       "402  6251dd01896621c9b47b53aa     Sandwich City Company       5    Bar Food\n",
       "403  6251dd01896621c9b47b53ac    Sandwich Pizza Company       5    Bar Food\n",
       "404  6251dd01896621c9b47b53ae           Goat Tastey Inc       5   Sushi Bar\n",
       "405  6251dd01896621c9b47b53ba           Kitchen Fun LLC       5     Italian\n",
       "\n",
       "[406 rows x 4 columns]"
      ]
     },
     "execution_count": 21,
     "metadata": {},
     "output_type": "execute_result"
    }
   ],
   "source": [
    "import pandas as pd\n",
    "fivestar_df = pd.DataFrame(fivestarlist)\n",
    "fivestar_df"
   ]
  },
  {
   "cell_type": "markdown",
   "metadata": {},
   "source": [
    "\n",
    "# Level 3\n",
    "## - Exercise 1\n",
    "Generate a statistical summary of the information contained in the database."
   ]
  },
  {
   "cell_type": "markdown",
   "metadata": {},
   "source": [
    "### Solution:\n",
    "\n",
    "If the statistical summary of the information in the database means something like the ServerStatus performed on Level 1 - Exercise 1. This is already done.\n",
    "\n",
    "But, if the information asked for is something like a \"describe\" of all the database, we are going to do it now."
   ]
  },
  {
   "cell_type": "code",
   "execution_count": 22,
   "metadata": {},
   "outputs": [
    {
     "name": "stdout",
     "output_type": "stream",
     "text": [
      "\n",
      "The sum of each rating occurance across all data grouped by rating \n",
      "{'_id': 1, 'count': 387}\n",
      "{'_id': 2, 'count': 409}\n",
      "{'_id': 3, 'count': 392}\n",
      "{'_id': 4, 'count': 406}\n",
      "{'_id': 5, 'count': 406}\n"
     ]
    }
   ],
   "source": [
    "# db('business').collection('reviews').find({}).limit(100).toArray()\n",
    "# Now let's use the aggregation framework to sum the occurrence of each rating across the entire data set\n",
    "print('\\nThe sum of each rating occurance across all data grouped by rating ')\n",
    "stargroup=db.reviews.aggregate(\n",
    "# The Aggregation Pipeline is defined as an array of different operations\n",
    "[\n",
    "# The first stage in this pipe is to group data\n",
    "{ '$group':\n",
    "    { '_id': \"$rating\",\n",
    "     \"count\" : \n",
    "                 { '$sum' :1 }\n",
    "    }\n",
    "},\n",
    "# The second stage in this pipe is to sort the data\n",
    "{\"$sort\":  { \"_id\":1}\n",
    "}\n",
    "# Close the array with the ] tag             \n",
    "] )\n",
    "\n",
    "# Print the result\n",
    "for group in stargroup:\n",
    "    print(group)"
   ]
  },
  {
   "cell_type": "code",
   "execution_count": 23,
   "metadata": {},
   "outputs": [
    {
     "data": {
      "text/plain": [
       "<pymongo.cursor.Cursor at 0x2b767e3d400>"
      ]
     },
     "execution_count": 23,
     "metadata": {},
     "output_type": "execute_result"
    }
   ],
   "source": [
    "Alldatacursor = db.reviews.find({})\n",
    "Alldatacursor"
   ]
  },
  {
   "cell_type": "code",
   "execution_count": 24,
   "metadata": {},
   "outputs": [],
   "source": [
    "Alldatalist = []\n",
    "for row in Alldatacursor:\n",
    "    Alldatalist.append(row)"
   ]
  },
  {
   "cell_type": "code",
   "execution_count": 25,
   "metadata": {},
   "outputs": [
    {
     "data": {
      "text/html": [
       "<div>\n",
       "<style scoped>\n",
       "    .dataframe tbody tr th:only-of-type {\n",
       "        vertical-align: middle;\n",
       "    }\n",
       "\n",
       "    .dataframe tbody tr th {\n",
       "        vertical-align: top;\n",
       "    }\n",
       "\n",
       "    .dataframe thead th {\n",
       "        text-align: right;\n",
       "    }\n",
       "</style>\n",
       "<table border=\"1\" class=\"dataframe\">\n",
       "  <thead>\n",
       "    <tr style=\"text-align: right;\">\n",
       "      <th></th>\n",
       "      <th>_id</th>\n",
       "      <th>name</th>\n",
       "      <th>rating</th>\n",
       "      <th>cuisine</th>\n",
       "    </tr>\n",
       "  </thead>\n",
       "  <tbody>\n",
       "    <tr>\n",
       "      <th>0</th>\n",
       "      <td>624ff457b32087a0f5f46b1b</td>\n",
       "      <td>Lazy Salty Inc</td>\n",
       "      <td>5</td>\n",
       "      <td>Mexican</td>\n",
       "    </tr>\n",
       "    <tr>\n",
       "      <th>1</th>\n",
       "      <td>624ff457b32087a0f5f46b1c</td>\n",
       "      <td>Tastey Lazy Company</td>\n",
       "      <td>1</td>\n",
       "      <td>Sushi Bar</td>\n",
       "    </tr>\n",
       "    <tr>\n",
       "      <th>2</th>\n",
       "      <td>624ff457b32087a0f5f46b1d</td>\n",
       "      <td>Sandwich Big Company</td>\n",
       "      <td>4</td>\n",
       "      <td>American</td>\n",
       "    </tr>\n",
       "    <tr>\n",
       "      <th>3</th>\n",
       "      <td>624ff457b32087a0f5f46b1e</td>\n",
       "      <td>Big State Corporation</td>\n",
       "      <td>5</td>\n",
       "      <td>Italian</td>\n",
       "    </tr>\n",
       "    <tr>\n",
       "      <th>4</th>\n",
       "      <td>624ff457b32087a0f5f46b1f</td>\n",
       "      <td>Tastey Fun Corporation</td>\n",
       "      <td>2</td>\n",
       "      <td>Bar Food</td>\n",
       "    </tr>\n",
       "    <tr>\n",
       "      <th>...</th>\n",
       "      <td>...</td>\n",
       "      <td>...</td>\n",
       "      <td>...</td>\n",
       "      <td>...</td>\n",
       "    </tr>\n",
       "    <tr>\n",
       "      <th>1995</th>\n",
       "      <td>6251dd01896621c9b47b53bc</td>\n",
       "      <td>Big Pizza Company</td>\n",
       "      <td>2</td>\n",
       "      <td>American</td>\n",
       "    </tr>\n",
       "    <tr>\n",
       "      <th>1996</th>\n",
       "      <td>6251dd01896621c9b47b53bd</td>\n",
       "      <td>State Pizza LLC</td>\n",
       "      <td>1</td>\n",
       "      <td>Pizza</td>\n",
       "    </tr>\n",
       "    <tr>\n",
       "      <th>1997</th>\n",
       "      <td>6251dd01896621c9b47b53be</td>\n",
       "      <td>Kitchen State LLC</td>\n",
       "      <td>2</td>\n",
       "      <td>Pizza</td>\n",
       "    </tr>\n",
       "    <tr>\n",
       "      <th>1998</th>\n",
       "      <td>6251dd01896621c9b47b53bf</td>\n",
       "      <td>Pizza Fun Inc</td>\n",
       "      <td>1</td>\n",
       "      <td>Sushi Bar</td>\n",
       "    </tr>\n",
       "    <tr>\n",
       "      <th>1999</th>\n",
       "      <td>6251dd01896621c9b47b53c0</td>\n",
       "      <td>Pizza Tastey Company</td>\n",
       "      <td>4</td>\n",
       "      <td>Mexican</td>\n",
       "    </tr>\n",
       "  </tbody>\n",
       "</table>\n",
       "<p>2000 rows × 4 columns</p>\n",
       "</div>"
      ],
      "text/plain": [
       "                           _id                    name  rating    cuisine\n",
       "0     624ff457b32087a0f5f46b1b          Lazy Salty Inc       5    Mexican\n",
       "1     624ff457b32087a0f5f46b1c     Tastey Lazy Company       1  Sushi Bar\n",
       "2     624ff457b32087a0f5f46b1d    Sandwich Big Company       4   American\n",
       "3     624ff457b32087a0f5f46b1e   Big State Corporation       5    Italian\n",
       "4     624ff457b32087a0f5f46b1f  Tastey Fun Corporation       2   Bar Food\n",
       "...                        ...                     ...     ...        ...\n",
       "1995  6251dd01896621c9b47b53bc       Big Pizza Company       2   American\n",
       "1996  6251dd01896621c9b47b53bd         State Pizza LLC       1      Pizza\n",
       "1997  6251dd01896621c9b47b53be       Kitchen State LLC       2      Pizza\n",
       "1998  6251dd01896621c9b47b53bf           Pizza Fun Inc       1  Sushi Bar\n",
       "1999  6251dd01896621c9b47b53c0    Pizza Tastey Company       4    Mexican\n",
       "\n",
       "[2000 rows x 4 columns]"
      ]
     },
     "execution_count": 25,
     "metadata": {},
     "output_type": "execute_result"
    }
   ],
   "source": [
    "df = pd.DataFrame(Alldatalist)\n",
    "df"
   ]
  },
  {
   "cell_type": "markdown",
   "metadata": {},
   "source": [
    "### This is a statistical summary of the information contained in the database:"
   ]
  },
  {
   "cell_type": "code",
   "execution_count": 27,
   "metadata": {},
   "outputs": [
    {
     "data": {
      "text/html": [
       "<div>\n",
       "<style scoped>\n",
       "    .dataframe tbody tr th:only-of-type {\n",
       "        vertical-align: middle;\n",
       "    }\n",
       "\n",
       "    .dataframe tbody tr th {\n",
       "        vertical-align: top;\n",
       "    }\n",
       "\n",
       "    .dataframe thead th {\n",
       "        text-align: right;\n",
       "    }\n",
       "</style>\n",
       "<table border=\"1\" class=\"dataframe\">\n",
       "  <thead>\n",
       "    <tr style=\"text-align: right;\">\n",
       "      <th></th>\n",
       "      <th>count</th>\n",
       "      <th>unique</th>\n",
       "      <th>top</th>\n",
       "      <th>freq</th>\n",
       "      <th>mean</th>\n",
       "      <th>std</th>\n",
       "      <th>min</th>\n",
       "      <th>25%</th>\n",
       "      <th>50%</th>\n",
       "      <th>75%</th>\n",
       "      <th>max</th>\n",
       "    </tr>\n",
       "  </thead>\n",
       "  <tbody>\n",
       "    <tr>\n",
       "      <th>_id</th>\n",
       "      <td>2000</td>\n",
       "      <td>2000</td>\n",
       "      <td>624ff457b32087a0f5f46b1b</td>\n",
       "      <td>1</td>\n",
       "      <td>NaN</td>\n",
       "      <td>NaN</td>\n",
       "      <td>NaN</td>\n",
       "      <td>NaN</td>\n",
       "      <td>NaN</td>\n",
       "      <td>NaN</td>\n",
       "      <td>NaN</td>\n",
       "    </tr>\n",
       "    <tr>\n",
       "      <th>name</th>\n",
       "      <td>2000</td>\n",
       "      <td>647</td>\n",
       "      <td>Sandwich Lazy Company</td>\n",
       "      <td>10</td>\n",
       "      <td>NaN</td>\n",
       "      <td>NaN</td>\n",
       "      <td>NaN</td>\n",
       "      <td>NaN</td>\n",
       "      <td>NaN</td>\n",
       "      <td>NaN</td>\n",
       "      <td>NaN</td>\n",
       "    </tr>\n",
       "    <tr>\n",
       "      <th>rating</th>\n",
       "      <td>2000.0</td>\n",
       "      <td>NaN</td>\n",
       "      <td>NaN</td>\n",
       "      <td>NaN</td>\n",
       "      <td>3.02</td>\n",
       "      <td>1.41</td>\n",
       "      <td>1.0</td>\n",
       "      <td>2.0</td>\n",
       "      <td>3.0</td>\n",
       "      <td>4.0</td>\n",
       "      <td>5.0</td>\n",
       "    </tr>\n",
       "    <tr>\n",
       "      <th>cuisine</th>\n",
       "      <td>2000</td>\n",
       "      <td>8</td>\n",
       "      <td>Italian</td>\n",
       "      <td>269</td>\n",
       "      <td>NaN</td>\n",
       "      <td>NaN</td>\n",
       "      <td>NaN</td>\n",
       "      <td>NaN</td>\n",
       "      <td>NaN</td>\n",
       "      <td>NaN</td>\n",
       "      <td>NaN</td>\n",
       "    </tr>\n",
       "  </tbody>\n",
       "</table>\n",
       "</div>"
      ],
      "text/plain": [
       "          count unique                       top freq  mean   std  min  25%  \\\n",
       "_id        2000   2000  624ff457b32087a0f5f46b1b    1   NaN   NaN  NaN  NaN   \n",
       "name       2000    647     Sandwich Lazy Company   10   NaN   NaN  NaN  NaN   \n",
       "rating   2000.0    NaN                       NaN  NaN  3.02  1.41  1.0  2.0   \n",
       "cuisine    2000      8                   Italian  269   NaN   NaN  NaN  NaN   \n",
       "\n",
       "         50%  75%  max  \n",
       "_id      NaN  NaN  NaN  \n",
       "name     NaN  NaN  NaN  \n",
       "rating   3.0  4.0  5.0  \n",
       "cuisine  NaN  NaN  NaN  "
      ]
     },
     "execution_count": 27,
     "metadata": {},
     "output_type": "execute_result"
    }
   ],
   "source": [
    "df.describe(include='all').round(2).T"
   ]
  }
 ],
 "metadata": {
  "interpreter": {
   "hash": "494e690407c5c7c9b2fbc0a1227ada2e3d821eefed538763ba3356ad470e06f1"
  },
  "kernelspec": {
   "display_name": "Python 3.9.12 ('ITAcademy')",
   "language": "python",
   "name": "python3"
  },
  "language_info": {
   "codemirror_mode": {
    "name": "ipython",
    "version": 3
   },
   "file_extension": ".py",
   "mimetype": "text/x-python",
   "name": "python",
   "nbconvert_exporter": "python",
   "pygments_lexer": "ipython3",
   "version": "3.9.12"
  },
  "orig_nbformat": 4
 },
 "nbformat": 4,
 "nbformat_minor": 2
}
