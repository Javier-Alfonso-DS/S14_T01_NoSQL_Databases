{
 "cells": [
  {
   "cell_type": "markdown",
   "metadata": {},
   "source": [
    "# Description\n",
    "Let's start getting familiar with NoSQL databases !!!! We start with a few basic exercises\n",
    "\n",
    "Level 1\n",
    "- Exercise 1\n",
    "Create a NoSQL database using MongoDB. Add some sample data that will allow you to check that you are able to process the information in a basic way.\n",
    "\n",
    "- Exercise 2\n",
    "Connect the NoSQL database to Python using pymongo for example.\n",
    "\n",
    "Level 2\n",
    "- Exercise 1\n",
    "Load some simple queries to a Pandas Dataframe. \n",
    "\n",
    "Level 3\n",
    "- Exercise 1\n",
    "Generate a statistical summary of the information contained in the database.\n",
    "\n",
    "Resources\n",
    "Classroom resources and https://docs.spring.io/spring-data/mongodb/docs/current/reference/html/#reference .\n"
   ]
  },
  {
   "cell_type": "markdown",
   "metadata": {},
   "source": [
    "# Level 1\n",
    "## - Exercise 1\n",
    "Create a NoSQL database using MongoDB. Add some sample data that will allow you to check that you are able to process the information in a basic way.\n"
   ]
  },
  {
   "cell_type": "markdown",
   "metadata": {},
   "source": [
    "\n",
    "## - Exercise 2\n",
    "Connect the NoSQL database to Python using pymongo for example.\n"
   ]
  },
  {
   "cell_type": "markdown",
   "metadata": {},
   "source": [
    "\n",
    "# Level 2\n",
    "## - Exercise 1\n",
    "Load some simple queries to a Pandas Dataframe. \n"
   ]
  },
  {
   "cell_type": "markdown",
   "metadata": {},
   "source": [
    "\n",
    "# Level 3\n",
    "## - Exercise 1\n",
    "Generate a statistical summary of the information contained in the database."
   ]
  }
 ],
 "metadata": {
  "language_info": {
   "name": "python"
  },
  "orig_nbformat": 4
 },
 "nbformat": 4,
 "nbformat_minor": 2
}
